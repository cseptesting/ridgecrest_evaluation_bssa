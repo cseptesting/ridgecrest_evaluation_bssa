{
 "cells": [
  {
   "cell_type": "markdown",
   "metadata": {},
   "source": [
    "# Exploring Catalog-based Evaluations\n",
    "\n",
    "Author: William Savran  \n",
    "Date: 05 May 2020\n",
    "\n",
    "The catalog-based evaluations outlined in Savran et al., 2020 provide likelihood-free counterparts to the Poisson-based evaluations designed for gridded forecasts (e.g., Schorlemmer et al., 2007; Zechar et al., 2010). In this notebook, I investigate the behavior of these likelihood-free evaluations in the context of their Poissonian counterparts. This analysis will help to illuminate the differences between these approaches, and potentially identify short-comings of the new evaluations."
   ]
  },
  {
   "cell_type": "code",
   "execution_count": 1,
   "metadata": {},
   "outputs": [
    {
     "data": {
      "text/html": [
       "<script>\n",
       "code_show=true; \n",
       "function code_toggle() {\n",
       " if (code_show){\n",
       " $('div.input').hide();\n",
       " } else {\n",
       " $('div.input').show();\n",
       " }\n",
       " code_show = !code_show\n",
       "} \n",
       "$( document ).ready(code_toggle);\n",
       "</script>\n",
       "<form action=\"javascript:code_toggle()\"><input type=\"submit\" value=\"Toggle raw code\"></form>"
      ],
      "text/plain": [
       "<IPython.core.display.HTML object>"
      ]
     },
     "execution_count": 1,
     "metadata": {},
     "output_type": "execute_result"
    }
   ],
   "source": [
    "from IPython.display import HTML\n",
    "\n",
    "HTML('''<script>\n",
    "code_show=true; \n",
    "function code_toggle() {\n",
    " if (code_show){\n",
    " $('div.input').hide();\n",
    " } else {\n",
    " $('div.input').show();\n",
    " }\n",
    " code_show = !code_show\n",
    "} \n",
    "$( document ).ready(code_toggle);\n",
    "</script>\n",
    "<form action=\"javascript:code_toggle()\"><input type=\"submit\" value=\"Toggle raw code\"></form>''')\n",
    "\n"
   ]
  },
  {
   "cell_type": "markdown",
   "metadata": {},
   "source": [
    "## Introduction\n",
    "\n",
    "The following numerical experiments use simulations on spatially uniform (SU) forecasts to explore the behavior of the statistics proposed in Savran et al., 2020. The equation for the test statistic is as follows,\n",
    "\n",
    "\\begin{equation}\n",
    "S = \\left [ \\sum_{i=1}^{N} \\log{\\hat{\\lambda}(k_i)} \\right ] N^{-1}.\n",
    "\\end{equation}\n",
    "\n",
    "Here $\\hat{\\lambda}$ is the approximate rate-density provided estimated as the expected event-count per spatial cell from the forecast and $N$ represents the number of target events, and $k_i$ indicates the cell index, $k$, of the $i^{th}$ event. The statistic $S$ can be regarded as the geometric mean of the target event rate distribution.\n",
    "\n",
    "In additon to the SU forecasts, I use two forecasts from UCERF3-ETAS and UCERF3-NoFaults starting after the M 7.1 Ridgecrest mainshock to explore the catalog-based spatial-test. These forecasts are located on `opensha [dot] usc [dot] edu` at the path defined in the code cell below. The analysis uses the PyCSEP toolkit available on [GitHub](https://github.com/SCECcode/csep2/)."
   ]
  },
  {
   "cell_type": "code",
   "execution_count": 2,
   "metadata": {},
   "outputs": [],
   "source": [
    "# Python Imports\n",
    "import itertools\n",
    "\n",
    "# Third-party Imports\n",
    "import numpy as np\n",
    "import matplotlib.pyplot as plt\n",
    "\n",
    "# PyCSEP imports\n",
    "from csep.core.forecasts import GriddedDataSet\n",
    "from csep.core.evaluations import EvaluationResult\n",
    "from csep.utils.spatial import CartesianGrid2D\n",
    "from csep.utils.stats import ecdf\n",
    "from csep.core.csep1_tests import csep1_spatial_test"
   ]
  },
  {
   "cell_type": "code",
   "execution_count": 3,
   "metadata": {},
   "outputs": [],
   "source": [
    "# path to directory where simulations are stored\n",
    "u3etas_dir = '/home/scec-02/kmilner/ucerf3/etas_sim/2019_09_04-ComCatM7p1_ci38457511_ShakeMapSurfaces'\n",
    "u3nofauls_dir = '/home/scec-00/wsavran/working/ucerf3-ridgecrest/2019_09_04-ComCatM7p1_ci38457511_ShakeMapSurfaces-NoFaults'\n",
    "\n",
    "# path to catalog file used for manuscript\n",
    "catalog_file = '/home/scec-01/wsavran/comcat_repo/2019-11-11-comcat.json'\n",
    "\n",
    "# random seed for reproducibility\n",
    "seed=1234567\n",
    "np.random.seed(seed)"
   ]
  },
  {
   "cell_type": "code",
   "execution_count": 4,
   "metadata": {},
   "outputs": [],
   "source": [
    "class MockCatalog:\n",
    "    \"\"\" Creates a mock object that can be used to call csep1_tests directly. \"\"\"\n",
    "    def __init__(self, data, name=''):\n",
    "        self.data = data\n",
    "        self.name = name\n",
    "        \n",
    "    def spatial_counts(self):\n",
    "        return self.data\n",
    "\n",
    "def create_uniform_spatial_forecast(constant_rate, region, name=''):\n",
    "    \"\"\" Create uniform spatial forecast for evaluation purposes\n",
    "    \n",
    "    Args:\n",
    "        constant_rate (float): value of homogeneous poisson point-process\n",
    "        region (csep.utils.spatial.Region): region of uniform forecast\n",
    "        name (str): used to label the forecast for plotting \n",
    "        \n",
    "    Returns:\n",
    "        forecast (csep.core.forecasts.GriddedDataSet): spatial forecast\n",
    "    \"\"\"\n",
    "    # this will throw error if it cannot be made into numpy array\n",
    "    rate = np.array(constant_rate)\n",
    "    if not isinstance(region, CartesianGrid2D):\n",
    "        raise TypeError(\"region should be CartesianGrid2D\")\n",
    "    \n",
    "    # this will throw and error if constant_rate is not a scalar or list-like with \n",
    "    data = np.ones(region.num_nodes) * constant_rate\n",
    "    spatial_forecast = GriddedDataSet(data, region, name)\n",
    "    return spatial_forecast\n",
    "\n",
    "def simulate_catalog(forecast, n_target_events, force_unity=False):\n",
    "    n_bins = forecast.region.num_nodes\n",
    "    obs_cat = np.zeros(n_bins)\n",
    "    rand_event_locs = np.random.randint(n_bins, size=int(n_target_events))\n",
    "    if force_unity:\n",
    "        rand_event_locs = list(set(rand_event_locs))\n",
    "    np.add.at(obs_cat, rand_event_locs, 1)\n",
    "    cat = MockCatalog(obs_cat)\n",
    "    return cat\n",
    "\n",
    "def spatial_test_statistic_no_normalization(gridded_forecast_rates, target_counts):\n",
    "    \"\"\" implemented following Eq. 18 in BSSA manuscript\"\"\"\n",
    "    n_target = np.sum(target_counts)\n",
    "    log_rates = np.log10(gridded_forecast_rates)\n",
    "    # we still compute the mean here\n",
    "    statistic = np.sum(target_counts*log_rates) / n_target\n",
    "    return statistic\n",
    "    \n",
    "def spatial_test_statistic_normalization(gridded_forecast_rates, target_counts):\n",
    "    \"\"\" implemented following Eq. 18 in BSSA manuscript\"\"\"\n",
    "    n_target = np.sum(target_counts)\n",
    "    # normalize so rates sum to unity\n",
    "    normed_rates = gridded_forecast_rates / np.sum(gridded_forecast_rates)\n",
    "    log_rates = np.log10(normed_rates)\n",
    "    # we still compute the mean here\n",
    "    statistic = np.sum(target_counts*log_rates) / n_target\n",
    "    return statistic\n",
    "\n",
    "def approximate_likelihood_statistic_normalization(gridded_forecast_rates, target_counts):\n",
    "    \"\"\" implemented following Eq. 18 in BSSA manuscript\"\"\"\n",
    "    n_target = np.sum(target_counts)\n",
    "    # normalize so rates sum to unity\n",
    "    normed_rates = gridded_forecast_rates / np.sum(gridded_forecast_rates)\n",
    "    log_rates = np.log10(normed_rates)\n",
    "    # we still compute the mean here\n",
    "    statistic = np.sum(target_counts*log_rates)\n",
    "    return statistic\n",
    "\n",
    "def csep2_spatial_test(forecast, observed_catalog, num_simulations=10000, fix_simulated_events=True,\n",
    "                       func=spatial_test_statistic_normalization):\n",
    "    \"\"\"\n",
    "    Performs the Spatial Test on the Forecast using the Observed Catalogs.\n",
    "\n",
    "    Note: The forecast and the observations should be scaled to the same time period before calling this function. This increases\n",
    "    transparency as no assumptions are being made about the length of the forecasts. This is particularly important for\n",
    "    gridded forecasts that supply their forecasts as rates.\n",
    "\n",
    "    Args:\n",
    "        gridded_forecast: csep.core.forecasts.GriddedForecast\n",
    "        observed_catalog: csep.core.catalogs.Catalog\n",
    "        num_simulations (int): number of simulations used to compute the quantile score\n",
    "        fix_simulated_events (bool): whether we should condition on the number of simualted events\n",
    "\n",
    "    Returns:\n",
    "        evaluation_result: csep.core.evaluations.EvaluationResult\n",
    "    \"\"\"\n",
    "    # grid catalog onto spatial grid\n",
    "    gridded_catalog_data = observed_catalog.spatial_counts()\n",
    "    n_obs = np.sum(gridded_catalog_data)\n",
    "    n_fore = np.sum(forecast.spatial_counts())\n",
    "    \n",
    "    test_distribution = np.empty(num_simulations)\n",
    "    for idx in range(num_simulations):\n",
    "        # determine number of events to simulate, inject ETAS event counts here. maybe?\n",
    "        if fix_simulated_events == True:\n",
    "            n_sim = n_obs\n",
    "        else:\n",
    "            n_sim = int(np.random.poisson(n_fore))\n",
    "        # simulate target catalog\n",
    "        target_catalog = simulate_catalog(forecast, n_sim)\n",
    "        # add to test distribution\n",
    "        test_distribution[idx] = func(forecast.spatial_counts(), target_catalog.data)\n",
    "        \n",
    "    observed_statistic = func(forecast.spatial_counts(), gridded_catalog_data)\n",
    "    \n",
    "    qs = np.sum(test_distribution <= observed_statistic) / num_simulations\n",
    "\n",
    "    # populate result data structure\n",
    "    result = EvaluationResult()\n",
    "    result.test_distribution = test_distribution\n",
    "    result.name = 'S-Test'\n",
    "    result.observed_statistic = observed_statistic\n",
    "    result.quantile = qs\n",
    "    result.sim_name = forecast.name\n",
    "    result.obs_name = f'N-obs: {n_obs}'\n",
    "    result.status = 'normal'\n",
    "    result.min_mw = None\n",
    "\n",
    "    return result"
   ]
  },
  {
   "cell_type": "markdown",
   "metadata": {},
   "source": [
    "## Understanding the Spatial Test using Spatially Uniform Forecasts\n",
    "\n",
    "**Summary:**\n",
    "1. Normalizing $\\lambda$ only becomes important if one is interested in comparing observed statistics between two forecasts. Without normalization the statistic differs by $\\log(K)$ where $K$ is the ratio of expected event counts between the two forecasts.<br>\n",
    "\n",
    "2. For SU forecasts, the test distribution of $S$ is, by definition, not influenced by variability in the forecasted number distribution. \n",
    "\n",
    "3. Implied, but not confirmed from the SU tests: The error in the estimate of $S$ will be influenced by the both sampling distribution and the distribution of $\\hat{\\lambda}$. The former is how we are probing the 'spatial distribution' of the forecast.\n",
    "\n",
    "3. The CSEP1 metric has non-zero variance in the test-distribution even when the observed catalog is generated from the same distribution as the forecast. This results from multiple events occurring in a spatial bin. \n",
    "\n",
    "4. The geometric mean and the sum of the target event rate distribution (spatial Pseudo-LL) produce equivalent quantile scores for SU forecasts when conditioned on the number of observed events.\n",
    "\n",
    "5. The test distribution of the spatial Pseudo-LL scores are influenced by the number distribution in addition to the sampling distribution and the distribution of $\\hat{\\lambda}$."
   ]
  },
  {
   "cell_type": "markdown",
   "metadata": {},
   "source": [
    "### Normalization of Approximated Rate Density for Spatial Test\n",
    "\n",
    "This comparison looks at why we should be normalizing the approximate rate-density from the forecast. The basic concern is that if two forecasts A and B have log-rates specified where $\\log(A) > \\log(B)$, then an observed test statistic will not be equivalent when calculated for forecasts $A$ and $B$. We expect this statistic to differ by $\\log(K)$ where $K$ is the ratio $A/B$."
   ]
  },
  {
   "cell_type": "code",
   "execution_count": 5,
   "metadata": {},
   "outputs": [
    {
     "name": "stdout",
     "output_type": "stream",
     "text": [
      "Testing Without Normalization of Forecasted Rates\n",
      "Forecast A (not normalized): -1.0\n",
      "Forecast B (not normalized): -0.6989700043360187\n",
      "Log10(K): 0.3010299956639812 StatA - StatB: 0.30102999566398125\n",
      "\n",
      "Testing With Normalization of Forecasted Rates\n",
      "Forecast A (normalized): -2.0\n",
      "Forecast B (normalized): -2.0\n",
      "\n",
      "Quantile Score (ForecastA): 1.0\n",
      "Quantile Score (ForecastB): 1.0\n"
     ]
    },
    {
     "data": {
      "image/png": "[encoded data removed]",
      "text/plain": [
       "<Figure size 432x288 with 1 Axes>"
      ]
     },
     "metadata": {
      "needs_background": "light"
     },
     "output_type": "display_data"
    }
   ],
   "source": [
    "# create dummy region for forecast with origins spanning from 0-9 in both dimensions\n",
    "origins = np.array(list(itertools.product(np.arange(10), np.arange(10))))\n",
    "region = CartesianGrid2D.from_origins(origins)\n",
    "\n",
    "rateA = 0.1\n",
    "rateB = 0.2\n",
    "\n",
    "# create uniform spatial forecast\n",
    "forecastA = create_uniform_spatial_forecast(rateA, region, name=f'Lambda={rateA}')\n",
    "forecastB = create_uniform_spatial_forecast(rateB, region, name=f'Lambda={rateB}')\n",
    "\n",
    "# create fake catalog observations, simply as numpy array of counts in cells\n",
    "n_obs = int(rateA * forecastA.region.num_nodes)\n",
    "obs_cat = simulate_catalog(forecastA, n_obs)\n",
    "\n",
    "# compute likelihood with normalization\n",
    "spatial_stat_no_normA = spatial_test_statistic_no_normalization(forecastA.data, obs_cat.data)\n",
    "spatial_stat_no_normB = spatial_test_statistic_no_normalization(forecastB.data, obs_cat.data)\n",
    "\n",
    "# compute likelihood without normalization\n",
    "spatial_stat_normA = spatial_test_statistic_normalization(forecastA.data, obs_cat.data)\n",
    "spatial_stat_normB = spatial_test_statistic_normalization(forecastB.data, obs_cat.data)\n",
    "\n",
    "print(\"Testing Without Normalization of Forecasted Rates\")\n",
    "print(f\"Forecast A (not normalized): {spatial_stat_no_normA}\\nForecast B (not normalized): {spatial_stat_no_normB}\")\n",
    "print(f\"Log10(K): {np.log10(rateB / rateA)} StatA - StatB: {spatial_stat_no_normB-spatial_stat_no_normA}\")\n",
    "np.testing.assert_allclose(np.log10(rateB/rateA), spatial_stat_no_normB-spatial_stat_no_normA)\n",
    "print()\n",
    "print(\"Testing With Normalization of Forecasted Rates\")\n",
    "print(f\"Forecast A (normalized): {spatial_stat_normA}\\nForecast B (normalized): {spatial_stat_normB}\")\n",
    "np.testing.assert_allclose(spatial_stat_normA, spatial_stat_normB)\n",
    "\n",
    "resultA = csep2_spatial_test(forecastA, obs_cat, func=spatial_test_statistic_no_normalization)\n",
    "resultB = csep2_spatial_test(forecastB, obs_cat, func=spatial_test_statistic_no_normalization)\n",
    "\n",
    "xA, yA = ecdf(resultA.test_distribution-resultA.observed_statistic)\n",
    "xB, yB = ecdf(resultB.test_distribution-resultB.observed_statistic)\n",
    "\n",
    "fig, ax = plt.subplots()\n",
    "h=ax.plot(xA, yA, label=f'{forecastA.name}')\n",
    "h=ax.plot(xB, yB, label=f'{forecastB.name}')\n",
    "h=ax.legend(loc='upper left')\n",
    "h=ax.set_title('Comparing Test Distributions for Two Forecasts with Different Rates')\n",
    "h=ax.set_xlabel('Target Statistic')\n",
    "h=ax.set_ylabel('P(X ≤ x)')\n",
    "print()\n",
    "print(f'Quantile Score (ForecastA): {resultA.quantile}\\nQuantile Score (ForecastB): {resultB.quantile}')"
   ]
  },
  {
   "cell_type": "markdown",
   "metadata": {},
   "source": [
    "This numerical experiment shows the necessity of normalizing $\\lambda$ in order to compare observed spatial statistics across forecasts. In practice, we are mostly concerned with quantile scores which are unaffected by this normalization. As expected, the difference in the test statistic between the two forecasts is $\\log(K)$ where $K$ is the ratio of the forecasted rates."
   ]
  },
  {
   "cell_type": "markdown",
   "metadata": {},
   "source": [
    "### Conditioning on the Number of Observed Events for Spatial Test\n",
    "\n",
    "The proposed statistic represents the geometric mean of the target event rate distribution, therefore not conditioning the simulated number of target events on the observed event counts will produce statistics with different levels of precision. Here, we explore this using the spatially uniform (SU) forecasts from above. We label the distribution 'fixed' if the statistics are computed conditioned on the number of observed events, and 'not fixed' otherwise.\n",
    "\n",
    "We use two tests that generate families of test statistics through simulation. (1) we condition the number of simulated events on the number of observed events, and (2) we do not condition the number of simulated events on the number of observed events. We will compare quantile scores and variance of the test statistics between these two experiments.\n",
    "\n",
    "For a spatially uniform forecast (SU), these proposed test statistic should have zero variance with all values being equal to the normalized statistic shown above."
   ]
  },
  {
   "cell_type": "code",
   "execution_count": 6,
   "metadata": {},
   "outputs": [
    {
     "data": {
      "image/png": "[encoded data removed]",
      "text/plain": [
       "<Figure size 432x288 with 1 Axes>"
      ]
     },
     "metadata": {
      "needs_background": "light"
     },
     "output_type": "display_data"
    }
   ],
   "source": [
    "result_fixed = csep2_spatial_test(forecastA, obs_cat, fix_simulated_events=True)\n",
    "result_not_fixed = csep2_spatial_test(forecastA, obs_cat, fix_simulated_events=False)\n",
    "\n",
    "xF, yF = ecdf(result_fixed.test_distribution-result_fixed.observed_statistic)\n",
    "xNF, yNF = ecdf(result_not_fixed.test_distribution-result_not_fixed.observed_statistic)\n",
    "\n",
    "fig, ax = plt.subplots()\n",
    "h=ax.plot(xNF, yNF, label='Not Fixed')\n",
    "h=ax.plot(xF, yF, label='Fixed')\n",
    "h=ax.legend(loc='upper right')\n",
    "h=ax.set_title('Simulations with Different Numbers of Events for SU forecast')\n",
    "h=ax.set_xlabel('Target Statistic')\n",
    "h=ax.set_ylabel('P(X ≤ x)')"
   ]
  },
  {
   "cell_type": "markdown",
   "metadata": {},
   "source": [
    "For a SU forecast, conditioning on $N_{obs}$ does not impact the estimate of the test statistic. This behavior should be re-evaluated in the context of a realistic forecast that incorporates spatial variability into the forecast. These results imply that the estimated error of the simulated test statistic is related to the variance of the spatial distribution of the forecast."
   ]
  },
  {
   "cell_type": "markdown",
   "metadata": {},
   "source": [
    "### Comparing Poisson and Likelihood-Free Evaluations with Poissonian (CSEP1) Counterparts"
   ]
  },
  {
   "cell_type": "markdown",
   "metadata": {},
   "source": [
    "\n",
    "\n",
    "The CSEP1 Spatial test is based on Poisson log-likelihood function is defined as, \n",
    "\n",
    "\\begin{equation}\n",
    "L(\\lambda, \\omega) = \\omega \\log\\lambda - \\lambda - \\log(\\omega!).\n",
    "\\end{equation}\n",
    "\n",
    "Where $\\lambda$ represents the expected rates in discrete spatial bins as specified by a forecast and $\\omega$ represents observed event counts in the same discrete spatial bins. The $\\lambda$ is normalized so its sum equals the number of observed events and events are simulated based on the forecast following Zechar et al., (2010). This statistic represents a joint log-likelihood of $\\lambda$ and $\\omega$. On the other hand, the CSEP2 spatial-test computes the geometric mean of the target event rate distribution defined as $S$ above. "
   ]
  },
  {
   "cell_type": "code",
   "execution_count": 7,
   "metadata": {},
   "outputs": [
    {
     "name": "stdout",
     "output_type": "stream",
     "text": [
      "\n",
      "Quantile Score (CSEP1): 0.328\n",
      "Quantile Score (CSEP1): 0.328\n",
      "Quantile Score (CSEP2): 1.0\n"
     ]
    },
    {
     "data": {
      "image/png": "[encoded data removed]",
      "text/plain": [
       "<Figure size 432x288 with 1 Axes>"
      ]
     },
     "metadata": {
      "needs_background": "light"
     },
     "output_type": "display_data"
    }
   ],
   "source": [
    "# needed for CSEP1, dummy values and this should chagne in PyCSEP\n",
    "forecastA.magnitudes = np.arange(10)\n",
    "forecastB.magnitudes = np.arange(10)\n",
    "n_sim=1000\n",
    "\n",
    "# generate random numbers so forecastA == forecastB\n",
    "random_numbers = np.random.rand(n_sim,n_obs)\n",
    "\n",
    "csep1_result = csep1_spatial_test(forecastA, obs_cat, verbose=False, random_numbers=random_numbers, num_simulations=n_sim)\n",
    "csep1_resultB = csep1_spatial_test(forecastB, obs_cat, verbose=False, random_numbers=random_numbers, num_simulations=n_sim)\n",
    "xC1, yC1 = ecdf(csep1_result.test_distribution-csep1_result.observed_statistic)\n",
    "xC1B, yC1B = ecdf(csep1_resultB.test_distribution-csep1_result.observed_statistic)\n",
    "fig, ax = plt.subplots()\n",
    "h=ax.plot(xC1, yC1, label='CSEP1 Spatial Test (Forecast A)')\n",
    "h=ax.plot(xC1B, yC1B, label='CSEP1 Spatial Test (Forecast B)')\n",
    "h=ax.plot(xF, yF, label='CSEP2 Spatial Test')\n",
    "h=ax.legend(loc='upper left')\n",
    "h=ax.set_title('Simulations with Different Numbers of Events for SUP forecast')\n",
    "h=ax.set_xlabel('Target Statistic - Observed Statistic')\n",
    "h=ax.set_ylabel('P(X ≤ x)')\n",
    "print()\n",
    "print(f'Quantile Score (CSEP1): {csep1_result.quantile}\\nQuantile Score (CSEP1): {csep1_resultB.quantile}\\n' + \n",
    "      f'Quantile Score (CSEP2): {result_fixed.quantile}')"
   ]
  },
  {
   "cell_type": "markdown",
   "metadata": {},
   "source": [
    "The simulated distributions of the test statistics vary between the CSEP1 and CSEP2 implementations of the spatial test, as expected by the differing test statistics. Namely, the CSEP1 test assumes a Poisson distribution for the individual cells which includes additional terms resulting from the discrete assumptions with the Poisson distribution (Rhoades et al., 2011).\n",
    "\n",
    "The primary difference of these two tests is that the quantile score and test distribution is invariant with the number of simulations assuming a spatially uniform forecast. The CSEP1 metric introduces Poissonian variability and fluctuates both test distribution and quantile score depending on both the observed catalog and simulated likelihood scores."
   ]
  },
  {
   "cell_type": "markdown",
   "metadata": {},
   "source": [
    "### Using an approximate Likelihood Statistic instead of Geometric Mean\n",
    "\n",
    "The proposed metric uses the geometric mean of the target event rate distribution which has the desirable property that two catalogs with identical spatial distributions and different rates will produce identical statistics. We will condition this test on the number of observed events."
   ]
  },
  {
   "cell_type": "code",
   "execution_count": 13,
   "metadata": {},
   "outputs": [
    {
     "name": "stdout",
     "output_type": "stream",
     "text": [
      "\n",
      "Quantile Score (CSEP1): 0.35\n",
      "Quantile Score (CSEP2 Apprx. LL): 1.0\n",
      "Quantile Score (CSEP2 Geo. Mean): 1.0\n",
      "Geo. Mean: -2.0\n",
      "Apprx. LogLL: -20.0\n"
     ]
    },
    {
     "data": {
      "image/png": "[encoded data removed]",
      "text/plain": [
       "<Figure size 432x288 with 1 Axes>"
      ]
     },
     "metadata": {
      "needs_background": "light"
     },
     "output_type": "display_data"
    }
   ],
   "source": [
    "result_fixed_no_mean = csep2_spatial_test(forecastA, obs_cat, fix_simulated_events=True, \n",
    "                                  func=approximate_likelihood_statistic_normalization)\n",
    "csep1_result = csep1_spatial_test(forecastA, obs_cat, verbose=False)\n",
    "\n",
    "xC1, yC1 = ecdf(csep1_result.test_distribution-csep1_result.observed_statistic)\n",
    "xF_noMean, yF_noMean = ecdf(result_fixed_no_mean.test_distribution - result_fixed_no_mean.observed_statistic)\n",
    "\n",
    "fig, ax = plt.subplots()\n",
    "h=ax.plot(xC1, yC1, label='CSEP1 Poisson LogLL')\n",
    "h=ax.plot(xF_noMean, yF_noMean, label='Apprx. LogLL')\n",
    "h=ax.legend(loc='upper left')\n",
    "h=ax.set_title('Simulations with Different Numbers of Events for SU forecast')\n",
    "h=ax.set_xlabel('Target Statistic')\n",
    "h=ax.set_ylabel('P(X ≤ x)')\n",
    "print()\n",
    "print(f'Quantile Score (CSEP1): {csep1_result.quantile}\\nQuantile Score (CSEP2 Apprx. LL): {result_fixed_no_mean.quantile}\\n' +\n",
    "      f'Quantile Score (CSEP2 Geo. Mean): {result_fixed.quantile}')\n",
    "print(f'Geo. Mean: {result_fixed.observed_statistic}\\nApprx. LogLL: {result_fixed_no_mean.observed_statistic}')"
   ]
  },
  {
   "cell_type": "markdown",
   "metadata": {},
   "source": [
    "As expected, this modification only changes the value of the observed statistic, but not the overall shape of the simulated test distribution. This behavior will change if we do not fix the number of simulated events to the number of observed events. "
   ]
  },
  {
   "cell_type": "markdown",
   "metadata": {},
   "source": [
    "### Approx. Likelihood Statistic with and without Conditioning Simulations on Number of Observed Events\n",
    "\n",
    "The CSEP2 implementation of the spatial test statistic computes a geometric mean, which negates the impact of the event count in a catalog. Here, we explore how the test distribution looks when calculated as the sum over the log-target event rate distribution as proposed in original document of catalog-based tests."
   ]
  },
  {
   "cell_type": "code",
   "execution_count": 9,
   "metadata": {},
   "outputs": [
    {
     "name": "stdout",
     "output_type": "stream",
     "text": [
      "Quantile Score (CSEP1): 0.32\n",
      "Quantile Score (CSEP2 Apprx. CondLL; ForecastA): 1.0\n",
      "Quantile Score (CSEP2 Apprx. LL; ForecastA): 0.5402\n",
      "Quantile Score (CSEP2 Apprx. LL; ForecastB): 0.9945\n"
     ]
    },
    {
     "data": {
      "image/png": "[encoded data removed]",
      "text/plain": [
       "<Figure size 432x288 with 1 Axes>"
      ]
     },
     "metadata": {
      "needs_background": "light"
     },
     "output_type": "display_data"
    }
   ],
   "source": [
    "result_fixed_no_mean = csep2_spatial_test(forecastA, obs_cat, fix_simulated_events=True, \n",
    "                                  func=approximate_likelihood_statistic_normalization)\n",
    "\n",
    "result_fixed_no_meanB = csep2_spatial_test(forecastB, obs_cat, fix_simulated_events=True, \n",
    "                                  func=approximate_likelihood_statistic_normalization)\n",
    "\n",
    "# in this case rateA = rate(obs_cat)\n",
    "result_notfixed_no_mean = csep2_spatial_test(forecastA, obs_cat, fix_simulated_events=False, \n",
    "                                  func=approximate_likelihood_statistic_normalization)\n",
    "\n",
    "# in this case rateB != rate(obs_cat)\n",
    "result_notfixed_no_meanB = csep2_spatial_test(forecastB, obs_cat, fix_simulated_events=False, \n",
    "                                  func=approximate_likelihood_statistic_normalization)\n",
    "\n",
    "csep1_result = csep1_spatial_test(forecastA, obs_cat, verbose=False)\n",
    "xC1, yC1 = ecdf(csep1_result.test_distribution-csep1_result.observed_statistic)\n",
    "\n",
    "xF_noMean, yF_noMean = ecdf(result_fixed_no_mean.test_distribution - result_fixed_no_mean.observed_statistic)\n",
    "xNF_noMean, yNF_noMean = ecdf(result_notfixed_no_mean.test_distribution - result_notfixed_no_mean.observed_statistic)\n",
    "xNF_noMeanB, yNF_noMeanB = ecdf(result_notfixed_no_meanB.test_distribution - result_notfixed_no_meanB.observed_statistic)\n",
    "\n",
    "fig, ax = plt.subplots()\n",
    "h=ax.plot(xC1, yC1, label='CSEP1 Poisson LogLL')\n",
    "h=ax.plot(xF_noMean, yF_noMean, label='Apprx. LogLL Fixed (A)')\n",
    "h=ax.plot(xNF_noMean, yNF_noMean, label='Apprx. LogLL NotFixed (A)')\n",
    "h=ax.plot(xNF_noMeanB, yNF_noMeanB, label='Apprx. LogLL NotFixed (B)')\n",
    "h=ax.legend(loc='upper left')\n",
    "h=ax.set_title('Simulations with Different Numbers of Events for SU forecast')\n",
    "h=ax.set_xlabel('Target Statistic')\n",
    "h=ax.set_ylabel('P(X ≤ x)')\n",
    "\n",
    "print(f'Quantile Score (CSEP1): {csep1_result.quantile}\\nQuantile Score (CSEP2 Apprx. CondLL; ForecastA): {result_fixed.quantile}\\n' +\n",
    "      f'Quantile Score (CSEP2 Apprx. LL; ForecastA): {result_notfixed_no_mean.quantile}\\nQuantile Score (CSEP2 Apprx. LL; ForecastB): {result_notfixed_no_meanB.quantile}')"
   ]
  },
  {
   "cell_type": "markdown",
   "metadata": {},
   "source": [
    "The above figure shows four different cases for computing a spatial-test for a SU forecast with associated quantile scores. The blue line denotes the CSEP1 approach that uses a Poisson log-likelihood function. The orange line uses the proposed approach based on the geometric mean of the target event rate distribution. The green line sums builds event rates by summing over the log(event rates) and assuming some non-zero variance in the forecasted number distribution. The expected rate of ForecastA equals the observed number of events. The red line shows the same calculation as prior, but using a forecast, called $B$, with a number distribution containing 2x the number of events."
   ]
  },
  {
   "cell_type": "markdown",
   "metadata": {},
   "source": [
    "## Spatial Test Comparisons using UCERF3-ETAS \n",
    "\n",
    "[To be completed]"
   ]
  },
  {
   "cell_type": "markdown",
   "metadata": {},
   "source": [
    "### Cell-wise Approximate Likelihood Ratios between U3ETAS and U3NoFaults\n",
    "\n",
    "[To be completed]"
   ]
  },
  {
   "cell_type": "markdown",
   "metadata": {},
   "source": [
    "## Fault-based Ruptures in U3ETAS\n",
    "\n",
    "[To be completed]"
   ]
  },
  {
   "cell_type": "markdown",
   "metadata": {},
   "source": [
    "## References\n",
    "\n",
    "Rhoades, D. A., D. Schorlemmer, M. C. Gerstenberger, A. Christophersen, J. D. Zechar, and M. Imoto (2011). Efficient testing of earthquake forecasting models, Acta Geophys 59 728-747.\n",
    "\n",
    "Savran, W., M. J. Werner, W. Marzocchi, D. Rhoades, D. D. Jackson, K. R. Milner, E. H. Field, and A. J. Michael (In Prep.). Pseudo-prospective evaluation of UCERF3-ETAS forecasts during the 2019 Ridgecrest Sequence, Bulletin of the Seismological Society of America.\n",
    "\n",
    "Zechar, J. D., M. C. Gerstenberger, and D. A. Rhoades (2010). Likelihood-Based Tests for Evaluating Space-Rate-Magnitude Earthquake Forecasts, Bulletin of the Seismological Society of America 100 1184-1195."
   ]
  }
 ],
 "metadata": {
  "kernelspec": {
   "display_name": "Python 3",
   "language": "python",
   "name": "python3"
  },
  "language_info": {
   "codemirror_mode": {
    "name": "ipython",
    "version": 3
   },
   "file_extension": ".py",
   "mimetype": "text/x-python",
   "name": "python",
   "nbconvert_exporter": "python",
   "pygments_lexer": "ipython3",
   "version": "3.7.3"
  }
 },
 "nbformat": 4,
 "nbformat_minor": 4
}
